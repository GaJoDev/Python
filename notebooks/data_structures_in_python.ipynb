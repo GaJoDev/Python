{
 "cells": [
  {
   "cell_type": "markdown",
   "metadata": {},
   "source": [
    "Lists\n",
    "\n",
    "Definition:\n",
    "    \n",
    "    A collection of items (elements) that is ordered, mutable, and can contain duplicates.\n",
    "    Syntax: Square brackets [] are used.\n",
    "\n",
    "Example:"
   ]
  },
  {
   "cell_type": "code",
   "execution_count": null,
   "metadata": {},
   "outputs": [],
   "source": [
    "my_list = ['apple', 'banana', 'cherry']"
   ]
  },
  {
   "cell_type": "markdown",
   "metadata": {},
   "source": [
    "Key Properties:\n",
    "\n",
    "    Mutable: Items in a list can be changed, added, or removed."
   ]
  },
  {
   "cell_type": "code",
   "execution_count": 7,
   "metadata": {},
   "outputs": [
    {
     "name": "stdout",
     "output_type": "stream",
     "text": [
      "['grape', 'banana', 'cherry', 'orange']\n"
     ]
    }
   ],
   "source": [
    "my_list[0] = 'grape'  # Changes 'apple' to 'grape'\n",
    "my_list.append('orange')  # Adds 'orange' to the end of the list\n",
    "print(my_list)\n"
   ]
  },
  {
   "cell_type": "markdown",
   "metadata": {},
   "source": [
    "Ordered:\n",
    "    \n",
    "    The sequence of items is preserved. You can access elements using their index:"
   ]
  },
  {
   "cell_type": "code",
   "execution_count": 6,
   "metadata": {},
   "outputs": [
    {
     "name": "stdout",
     "output_type": "stream",
     "text": [
      "banana\n"
     ]
    }
   ],
   "source": [
    "print(my_list[1])  # Outputs: 'banana'"
   ]
  },
  {
   "cell_type": "markdown",
   "metadata": {},
   "source": [
    "A list can contain mixed types:"
   ]
  },
  {
   "cell_type": "code",
   "execution_count": null,
   "metadata": {},
   "outputs": [],
   "source": [
    "mixed_list = [42, 'hello', 3.14, True]"
   ]
  },
  {
   "cell_type": "markdown",
   "metadata": {},
   "source": [
    "Common Operations:\n",
    "\n",
    "    Iterating:"
   ]
  },
  {
   "cell_type": "code",
   "execution_count": 4,
   "metadata": {},
   "outputs": [
    {
     "name": "stdout",
     "output_type": "stream",
     "text": [
      "42\n",
      "hello\n",
      "3.14\n",
      "True\n"
     ]
    }
   ],
   "source": [
    "mixed_list = [42, 'hello', 3.14, True]\n",
    "for item in mixed_list:\n",
    "    print(item)"
   ]
  },
  {
   "cell_type": "markdown",
   "metadata": {},
   "source": [
    "    Slicing:"
   ]
  },
  {
   "cell_type": "code",
   "execution_count": 5,
   "metadata": {},
   "outputs": [
    {
     "name": "stdout",
     "output_type": "stream",
     "text": [
      "['banana', 'cherry']\n"
     ]
    }
   ],
   "source": [
    "print(my_list[1:3])  # Outputs: ['banana', 'cherry']"
   ]
  },
  {
   "cell_type": "markdown",
   "metadata": {},
   "source": [
    "2. Strings\n",
    "\n",
    "    Definition:\n",
    "        \n",
    "        A sequence of characters enclosed in single (') or double (\") quotes.\n",
    "    \n",
    "    Example:"
   ]
  },
  {
   "cell_type": "code",
   "execution_count": null,
   "metadata": {},
   "outputs": [],
   "source": [
    "my_string = \"Hello, World!\""
   ]
  },
  {
   "cell_type": "markdown",
   "metadata": {},
   "source": [
    "Key Properties:\n",
    "\n",
    "Immutable:\n",
    "        \n",
    "    Strings cannot be changed after they are created. Any modification results in a new string."
   ]
  },
  {
   "cell_type": "code",
   "execution_count": 12,
   "metadata": {},
   "outputs": [
    {
     "name": "stdout",
     "output_type": "stream",
     "text": [
      "Hello, World!\n",
      "Hello, Python!\n"
     ]
    }
   ],
   "source": [
    "my_string = \"Hello, World!\"\n",
    "print(my_string)\n",
    "my_string = my_string.replace(\"World\", \"Python\")  # Creates a new string\n",
    "print(my_string)"
   ]
  },
  {
   "cell_type": "markdown",
   "metadata": {},
   "source": [
    "Ordered:\n",
    "    \n",
    "    You can access characters by their index."
   ]
  },
  {
   "cell_type": "code",
   "execution_count": 13,
   "metadata": {},
   "outputs": [
    {
     "name": "stdout",
     "output_type": "stream",
     "text": [
      "H\n"
     ]
    }
   ],
   "source": [
    "print(my_string[0])  # Outputs: 'H'"
   ]
  },
  {
   "cell_type": "markdown",
   "metadata": {},
   "source": [
    "Operations\n",
    "\n",
    "    Splitting into a list:"
   ]
  },
  {
   "cell_type": "code",
   "execution_count": 16,
   "metadata": {},
   "outputs": [
    {
     "name": "stdout",
     "output_type": "stream",
     "text": [
      "['Hello,', 'World!']\n"
     ]
    }
   ],
   "source": [
    "my_string = \"Hello, World!\"\n",
    "words = my_string.split()  # Outputs: ['Hello,', 'World!']\n",
    "print(words)"
   ]
  },
  {
   "cell_type": "markdown",
   "metadata": {},
   "source": [
    "Tuples\n",
    "\n",
    "Definition:\n",
    "\n",
    "    Like a list, but immutable (cannot be changed after creation). Syntax: Parentheses () are used.\n",
    "\n",
    "Example:"
   ]
  },
  {
   "cell_type": "code",
   "execution_count": null,
   "metadata": {},
   "outputs": [],
   "source": [
    "my_tuple = ('red', 'green', 'blue')"
   ]
  },
  {
   "cell_type": "markdown",
   "metadata": {},
   "source": [
    "Key Properties:\n",
    "\n",
    "Immutable:\n",
    "\n",
    "    Items cannot be added, removed, or modified."
   ]
  },
  {
   "cell_type": "code",
   "execution_count": 17,
   "metadata": {},
   "outputs": [
    {
     "ename": "TypeError",
     "evalue": "'tuple' object does not support item assignment",
     "output_type": "error",
     "traceback": [
      "\u001b[1;31m---------------------------------------------------------------------------\u001b[0m",
      "\u001b[1;31mTypeError\u001b[0m                                 Traceback (most recent call last)",
      "Cell \u001b[1;32mIn[17], line 2\u001b[0m\n\u001b[0;32m      1\u001b[0m my_tuple \u001b[38;5;241m=\u001b[39m (\u001b[38;5;124m'\u001b[39m\u001b[38;5;124mred\u001b[39m\u001b[38;5;124m'\u001b[39m, \u001b[38;5;124m'\u001b[39m\u001b[38;5;124mgreen\u001b[39m\u001b[38;5;124m'\u001b[39m, \u001b[38;5;124m'\u001b[39m\u001b[38;5;124mblue\u001b[39m\u001b[38;5;124m'\u001b[39m)\n\u001b[1;32m----> 2\u001b[0m \u001b[43mmy_tuple\u001b[49m\u001b[43m[\u001b[49m\u001b[38;5;241;43m0\u001b[39;49m\u001b[43m]\u001b[49m \u001b[38;5;241m=\u001b[39m \u001b[38;5;124m'\u001b[39m\u001b[38;5;124myellow\u001b[39m\u001b[38;5;124m'\u001b[39m  \u001b[38;5;66;03m# This will raise an error\u001b[39;00m\n",
      "\u001b[1;31mTypeError\u001b[0m: 'tuple' object does not support item assignment"
     ]
    }
   ],
   "source": [
    "my_tuple = ('red', 'green', 'blue')\n",
    "my_tuple[0] = 'yellow'  # This will raise an error\n"
   ]
  },
  {
   "cell_type": "markdown",
   "metadata": {},
   "source": [
    "Ordered:\n",
    "\n",
    "    Items are stored in a defined sequence."
   ]
  },
  {
   "cell_type": "code",
   "execution_count": 18,
   "metadata": {},
   "outputs": [
    {
     "name": "stdout",
     "output_type": "stream",
     "text": [
      "green\n"
     ]
    }
   ],
   "source": [
    "my_tuple = ('red', 'green', 'blue')\n",
    "print(my_tuple[1])  # Outputs: 'green'"
   ]
  },
  {
   "cell_type": "markdown",
   "metadata": {},
   "source": [
    "Use cases:\n",
    "\n",
    "    When you need to ensure the collection of items won’t change.\n",
    "    Typically used for fixed collections like coordinates, configurations, etc."
   ]
  },
  {
   "cell_type": "markdown",
   "metadata": {},
   "source": [
    "Dictionaries\n",
    "\n",
    "    Definition: A collection of key-value pairs.\n",
    "    Syntax: Curly braces {} are used.\n",
    "\n",
    "Example:"
   ]
  },
  {
   "cell_type": "code",
   "execution_count": 19,
   "metadata": {},
   "outputs": [],
   "source": [
    "my_dict = {'name': 'Alice', 'age': 25, 'city': 'New York'}"
   ]
  },
  {
   "cell_type": "markdown",
   "metadata": {},
   "source": [
    "Key Properties:\n",
    "\n",
    "Mutable:\n",
    "\n",
    "    You can add, modify, or delete key-value pairs."
   ]
  },
  {
   "cell_type": "code",
   "execution_count": 21,
   "metadata": {},
   "outputs": [
    {
     "name": "stdout",
     "output_type": "stream",
     "text": [
      "{'name': 'Alice', 'age': 25, 'city': 'New York'}\n",
      "{'name': 'Alice', 'age': 26, 'city': 'New York', 'job': 'Engineer'}\n"
     ]
    }
   ],
   "source": [
    "my_dict = {'name': 'Alice', 'age': 25, 'city': 'New York'}\n",
    "print(my_dict)\n",
    "my_dict['age'] = 26  # Changes the value for the key 'age'\n",
    "my_dict['job'] = 'Engineer'  # Adds a new key-value pair\n",
    "print(my_dict)"
   ]
  },
  {
   "cell_type": "markdown",
   "metadata": {},
   "source": [
    "Unordered (before Python 3.7):\n",
    "    \n",
    "    In older versions, the order of elements wasn’t preserved.\n",
    "\n",
    "    Starting with Python 3.7, dictionaries maintain insertion order."
   ]
  },
  {
   "cell_type": "markdown",
   "metadata": {},
   "source": [
    "Key-Value Structure:\n",
    "\n",
    "    Keys must be unique and immutable (e.g., strings, numbers, tuples).\n",
    "    Values can be any data type."
   ]
  },
  {
   "cell_type": "markdown",
   "metadata": {},
   "source": [
    "### Key Differences Between Python Data Structures\n",
    "\n",
    "| Feature       | List | String | Tuple | Dictionary |\n",
    "|---------------|------|--------|-------|------------|\n",
    "| **Mutable**   | Yes  | No     | No    | Yes        |\n",
    "| **Ordered**   | Yes  | Yes    | Yes   | Yes (from Python 3.7) |\n",
    "| **Access**    | By index | By index | By index | By key |\n",
    "| **Structure** | Sequential items | Sequential characters | Sequential items | Key-value pairs |\n",
    "| **Usage**     | General-purpose collections | Text data | Immutable collections | Mapping relationships |\n"
   ]
  },
  {
   "cell_type": "markdown",
   "metadata": {},
   "source": [
    "Use Cases\n",
    "\n",
    "Lists:\n",
    "    \n",
    "    Store a collection of items that can change, like a to-do list or user data.\n",
    "\n",
    "Strings:\n",
    "    \n",
    "    Represent textual data, like names, sentences, or file contents.\n",
    "\n",
    "Tuples:\n",
    "    \n",
    "    Use for fixed data sets like geographic coordinates or RGB color values.\n",
    "Dictionaries:\n",
    "\n",
    "    Use for lookups or when data needs to be associated (e.g., a name and its phone number)."
   ]
  },
  {
   "cell_type": "markdown",
   "metadata": {},
   "source": [
    "# Data Types\n",
    "\n",
    "Data types represent the kind of value a variable holds. Python has several built-in data types categorized as follows:\n",
    "\n",
    "## Mutable Data Types\n",
    "- **Lists**: Collections that can be modified after creation.\n",
    "- **Dictionaries**: Mappings of key-value pairs that can be modified.\n",
    "\n",
    "## Immutable Data Types\n",
    "- **Strings**: Sequences of characters that cannot be altered after creation.\n",
    "- **Tuples**: Ordered collections of items that cannot be modified.\n"
   ]
  },
  {
   "cell_type": "markdown",
   "metadata": {},
   "source": [
    "# Data Structures\n",
    "\n",
    "These are ways to store, organize, and manipulate data. The structures you mentioned belong to Python's built-in data structures:\n",
    "\n",
    "## Sequential Data Structures\n",
    "- **Lists**: Ordered, indexed collections of elements.\n",
    "- **Strings**: Ordered sequences of characters.\n",
    "- **Tuples**: Ordered collections like lists but immutable.\n",
    "\n",
    "## Mapping Data Structures\n",
    "- **Dictionaries**: Collections that map keys to values.\n"
   ]
  },
  {
   "cell_type": "markdown",
   "metadata": {},
   "source": [
    "# Abstract Data Types (ADTs)\n",
    "\n",
    "The structures above are examples of Python implementations of abstract data types:\n",
    "\n",
    "- **Sequence** (e.g., list, string, tuple): Represents an ordered collection.\n",
    "- **Mapping** (e.g., dictionary): Represents key-value associations.\n",
    "\n",
    "Python provides concrete implementations for these ADTs, with high-level features that make them easy to use.\n"
   ]
  },
  {
   "cell_type": "markdown",
   "metadata": {},
   "source": [
    "# Container Types\n",
    "\n",
    "In Python, lists, strings, tuples, and dictionaries are also categorized as container data types because they can hold multiple values:\n",
    "\n",
    "- **Homogeneous containers**: Typically hold elements of the same type (e.g., all strings in a list).\n",
    "- **Heterogeneous containers**: Can hold elements of different types (e.g., integers, strings, booleans mixed in one list).\n"
   ]
  }
 ],
 "metadata": {
  "kernelspec": {
   "display_name": "Python 3",
   "language": "python",
   "name": "python3"
  },
  "language_info": {
   "codemirror_mode": {
    "name": "ipython",
    "version": 3
   },
   "file_extension": ".py",
   "mimetype": "text/x-python",
   "name": "python",
   "nbconvert_exporter": "python",
   "pygments_lexer": "ipython3",
   "version": "3.13.0"
  }
 },
 "nbformat": 4,
 "nbformat_minor": 2
}
