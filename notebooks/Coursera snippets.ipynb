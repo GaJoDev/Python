{
 "cells": [
  {
   "cell_type": "code",
   "execution_count": 1,
   "id": "254fb18d-3055-447f-94ff-0070b6ec9401",
   "metadata": {},
   "outputs": [
    {
     "name": "stdout",
     "output_type": "stream",
     "text": [
      "Hello Kay. Your lucky number is 27\n",
      "Hello Cameron. Your lucky number is 63\n"
     ]
    }
   ],
   "source": [
    "name = \"Kay\"\n",
    "number = len(name) * 9\n",
    "\n",
    "print(\"Hello \" + name + \". Your lucky number is \" + str(number))\n",
    "\n",
    "name = \"Cameron\"\n",
    "number = len(name) * 9\n",
    "\n",
    "print(\"Hello \" + name + \". Your lucky number is \" + str(number))"
   ]
  },
  {
   "cell_type": "code",
   "execution_count": 2,
   "id": "8075a69c-c538-473f-bbb4-9eda1d5a0ddb",
   "metadata": {},
   "outputs": [
    {
     "name": "stdout",
     "output_type": "stream",
     "text": [
      "The distance in meters is 55000\n"
     ]
    }
   ],
   "source": [
    "# 1) Complete the code to return the result of the conversion\n",
    "def convert_distance(km):\n",
    "\tm = km * 1000  # exactly 1000 meters in 1 kilometer\n",
    "\treturn m\n",
    "\n",
    "\n",
    "# Do not indent any of the following lines of code as they are\n",
    "# meant to be located outside of the function above\n",
    "\n",
    "\n",
    "my_trip_kilometers = 55\n",
    "\n",
    "\n",
    "# 2) Convert my_trip_kilometers to meters by calling the function above\n",
    "my_trip_meters = convert_distance(my_trip_kilometers)\n",
    "\n",
    "\n",
    "# 3) Fill in the blank to print the result of converting my_trip_kilometers\n",
    "print(\"The distance in meters is \" + str(my_trip_meters))"
   ]
  },
  {
   "cell_type": "code",
   "execution_count": 3,
   "id": "feb8852b-c3ec-4348-b78e-f47ab0358e8c",
   "metadata": {},
   "outputs": [
    {
     "name": "stdout",
     "output_type": "stream",
     "text": [
      "15\n"
     ]
    }
   ],
   "source": [
    "def greater_value(x, y):\n",
    "    if x > y:\n",
    "        return x\n",
    "    else:\n",
    "       return y\n",
    "\n",
    "\n",
    "print(greater_value(10,3*5))"
   ]
  },
  {
   "cell_type": "code",
   "execution_count": 4,
   "id": "3a86524b-e127-48b1-af9b-d2f059689db0",
   "metadata": {},
   "outputs": [
    {
     "data": {
      "text/plain": [
       "False"
      ]
     },
     "execution_count": 4,
     "metadata": {},
     "output_type": "execute_result"
    }
   ],
   "source": [
    "((24 == 5*2) and (24 > 3*5) and (2*6 == 12))"
   ]
  },
  {
   "cell_type": "code",
   "execution_count": 1,
   "id": "610b44dc-2652-4487-afb8-e32b93a5f22a",
   "metadata": {},
   "outputs": [
    {
     "name": "stdout",
     "output_type": "stream",
     "text": [
      "False\n",
      "True\n",
      "True\n",
      "False\n"
     ]
    }
   ],
   "source": [
    "def is_power_of_two(number):\n",
    "  # This while loop checks if the \"number\" can be divided by two\n",
    "  # without leaving a remainder. How can you change the while loop to\n",
    "  # avoid a Python ZeroDivisionError?\n",
    "    if number < 1:\n",
    "      return False\n",
    "    while number % 2 == 0:\n",
    "        number = number / 2\n",
    "  # If after dividing by 2 \"number\" equals 1, then \"number\" is a power\n",
    "  # of 2.\n",
    "    if number == 1:\n",
    "        return True\n",
    "    return False\n",
    "  \n",
    "# Calls to the function\n",
    "print(is_power_of_two(0)) # Should be False\n",
    "print(is_power_of_two(1)) # Should be True\n",
    "print(is_power_of_two(8)) # Should be True\n",
    "print(is_power_of_two(9)) # Should be False"
   ]
  },
  {
   "cell_type": "code",
   "execution_count": 2,
   "id": "9cf01572-2e37-4c7c-b945-cad5258018ea",
   "metadata": {},
   "outputs": [
    {
     "name": "stdout",
     "output_type": "stream",
     "text": [
      "6\n",
      "10\n",
      "15\n"
     ]
    }
   ],
   "source": [
    "def sum_of_integers(n):\n",
    "    # If the input number is less than 1, return 0 (no integers to sum)\n",
    "    if n < 1:\n",
    "        return 0\n",
    "\n",
    "    # Initialize variables: i starts at 1, sum starts at 0\n",
    "    i = 1\n",
    "    sum = 0\n",
    "\n",
    "    # Continue the loop while i is less than or equal to n\n",
    "    while i <= n:\n",
    "        sum = sum + i  # Add the current value of i to the sum\n",
    "        i = i + 1      # Increment i by 1 to move to the next integer\n",
    "\n",
    "    # Return the final calculated sum\n",
    "    return sum\n",
    "\n",
    "\n",
    "# Test the function with different values of n\n",
    "print(sum_of_integers(3))  # Output: 6 (1 + 2 + 3)\n",
    "print(sum_of_integers(4))  # Output: 10 (1 + 2 + 3 + 4)\n",
    "print(sum_of_integers(5))  # Output: 15 (1 + 2 + 3 + 4 + 5)"
   ]
  },
  {
   "cell_type": "code",
   "execution_count": 6,
   "id": "cbf7281b-3e34-4c25-a5c0-4a52f31e4f88",
   "metadata": {},
   "outputs": [
    {
     "name": "stdout",
     "output_type": "stream",
     "text": [
      "6\n",
      "10\n",
      "15\n"
     ]
    }
   ],
   "source": [
    "def sum_of_integers(n):\n",
    "  if n < 1:\n",
    "    return 0\n",
    "\n",
    "\n",
    "  i = 1\n",
    "  sum = 0\n",
    "  while i <= n:\n",
    "    sum = sum + i\n",
    "    i = i + 1\n",
    "\n",
    "\n",
    "  return sum\n",
    "\n",
    "\n",
    "print(sum_of_integers(3))  # should print 6\n",
    "print(sum_of_integers(4))  # should print 10\n",
    "print(sum_of_integers(5))  # should print 15"
   ]
  },
  {
   "cell_type": "code",
   "execution_count": 7,
   "id": "48d698e7-d678-4cfc-904c-d42138dace10",
   "metadata": {},
   "outputs": [
    {
     "name": "stdout",
     "output_type": "stream",
     "text": [
      "3x1=3\n",
      "3x2=6\n",
      "3x3=9\n",
      "3x4=12\n",
      "3x5=15\n",
      "5x1=5\n",
      "5x2=10\n",
      "5x3=15\n",
      "5x4=20\n",
      "5x5=25\n",
      "8x1=8\n",
      "8x2=16\n",
      "8x3=24\n"
     ]
    }
   ],
   "source": [
    "def multiplication_table(number):\n",
    "    # Initialize the appropriate variable\n",
    "    multiplier = 1\n",
    "\n",
    "\n",
    "    # Complete the while loop condition.\n",
    "    while multiplier <= 5:\n",
    "        result = number * multiplier \n",
    "        if  result > 25:\n",
    "            # Enter the action to take if the result > 25\n",
    "            return\n",
    "        print(str(number) + \"x\" + str(multiplier) + \"=\" + str(result))\n",
    "        \n",
    "        # Increment the appropriate variable\n",
    "        multiplier += 1\n",
    "\n",
    "\n",
    "\n",
    "\n",
    "multiplication_table(3) \n",
    "# Should print: \n",
    "# 3x1=3 \n",
    "# 3x2=6 \n",
    "# 3x3=9 \n",
    "# 3x4=12 \n",
    "# 3x5=15\n",
    "\n",
    "\n",
    "multiplication_table(5) \n",
    "# Should print: \n",
    "# 5x1=5\n",
    "# 5x2=10\n",
    "# 5x3=15\n",
    "# 5x4=20\n",
    "# 5x5=25\n",
    "\n",
    "\n",
    "multiplication_table(8) \n",
    "# Should print:\n",
    "# 8x1=8\n",
    "# 8x2=16\n",
    "# 8x3=24"
   ]
  },
  {
   "cell_type": "code",
   "execution_count": 4,
   "id": "8b86214a-ff56-446d-99cd-8a1778279fcb",
   "metadata": {},
   "outputs": [
    {
     "name": "stdout",
     "output_type": "stream",
     "text": [
      "765\n"
     ]
    }
   ],
   "source": [
    "n= 765\n",
    "def factorial(n):\n",
    "  if n < 2:\n",
    "    return 1\n",
    "  return n * factorial(n-1)\n",
    "print(n)\n"
   ]
  },
  {
   "cell_type": "code",
   "execution_count": 14,
   "id": "c580b880-e93b-408c-9041-7746e18c8c40",
   "metadata": {},
   "outputs": [
    {
     "name": "stdout",
     "output_type": "stream",
     "text": [
      "11 9 7 5 3 1 "
     ]
    }
   ],
   "source": [
    "# This function should count down by -2 from 11 to 1, so that it only\n",
    "# prints odd numbers. \n",
    "\n",
    "# This range(11, -2) tells the for loop to start at 11 and end at index\n",
    "# position -2 (which corresponds to the numeric value of -1). Since the\n",
    "# third incremental or decremental value is missing, the loop will \n",
    "# increment by the default of +1 instead of the intended -2 decrement.\n",
    "# Starting at index position 11 and incrementing by +1 will end the loop \n",
    "# automatically, because the index is not counting down towards -2 as \n",
    "# the end of the range. \n",
    "\n",
    "# To fix this problem, the range() needs three parameters:\n",
    "# First parameter should be the starting index position of 11.\n",
    "# Second parameter should be the ending index position of 0 (value 1).\n",
    "# Third parameter should be decrementing by -2.\n",
    "# So, the range should be configured as range(11, 0, -2).\n",
    "\n",
    "# Fix this loop with the corrected range parameters and click Run.\n",
    "for n in range(11, 0, -2):\n",
    "    if n % 2 != 0:\n",
    "        print(n, end=\" \")\n",
    "\n",
    "# Should print: 11, 9, 7, 5, 3, 1 once the problem is fixed."
   ]
  },
  {
   "cell_type": "code",
   "execution_count": 15,
   "id": "f66ae744-bff4-4d13-8ddb-064f9d83f679",
   "metadata": {},
   "outputs": [
    {
     "name": "stdout",
     "output_type": "stream",
     "text": [
      "Going up: 1 | 2 | 3 | 4\n",
      "Going down: 6 | 5 | 4 | 3 | 2\n"
     ]
    }
   ],
   "source": [
    "# This function will accept two integer variables: the floor\n",
    "# number that a passenger \"enter\"s an elevator and the floor\n",
    "# number the passenger is going to \"exit\". Then, the function\n",
    "# counts up or down from the two floor numbers.\n",
    "def elevator_floor(enter, exit):\n",
    "    # The \"floor\" variable will be used as a counter and to  \n",
    "    # print the floor numbers. The \"elevator_direction\"\n",
    "    # variable will hold the string \"Going up: \" or \n",
    "    # \"Going down: \" plus the count up or down of the \n",
    "    # \"floor\" numbers.\n",
    "    floor = enter\n",
    "    elevator_direction = \"\"\n",
    "\n",
    "    # If the passenger enters the elevator on a floor that  \n",
    "    # is higher than the destination floor:\n",
    "    if enter > exit:\n",
    "        \n",
    "        # Then the \"elevator_direction\" string will be \n",
    "        # initialized with the string \"Going down: \".\n",
    "        elevator_direction = \"Going down: \"\n",
    "\n",
    "        # While the \"floor\" number is greater than or  \n",
    "        # equal to the exit floor number:\n",
    "        while floor >= exit:\n",
    "            # The \"floor\" number is converted to a string \n",
    "            # and is appended to the string variable \n",
    "            # \"elevator_direction\".\n",
    "            elevator_direction += str(floor)\n",
    "\n",
    "            # If the \"floor\" number is still greater than  \n",
    "            # the exit floor number:\n",
    "            if floor > exit:\n",
    "\n",
    "                # A pipe | character is added between each  \n",
    "                # floor number in the string variable  \n",
    "                # \"elevator_direction\" to provide a visual  \n",
    "                # divider between numbers. The if-statement \n",
    "                # above (if floor > exit) prevents the pipe \n",
    "                # character from appearing after the \"floor\" \n",
    "                # number is no longer greater than the \"exit\" \n",
    "                # variable. \n",
    "                elevator_direction += \" | \"\n",
    "                \n",
    "                # Decrement the \"floor\" number as the elevator \n",
    "                # goes down.\n",
    "            floor -= 1\n",
    "\n",
    "    # Else, it is implied that the passenger is entering the  \n",
    "    # elevator on a floor that is lower than the destination \n",
    "    # floor.\n",
    "    else:\n",
    "\n",
    "        # The \"elevator_direction\" string will be initialized \n",
    "        # with the string \"Going up: \".\n",
    "        elevator_direction = \"Going up: \"\n",
    "        \n",
    "        # While the \"floor\" number is less than or equal to the \n",
    "        # \"exit\" floor number:\n",
    "        while floor <= exit:\n",
    "\n",
    "            # Convert the the \"floor\" number to a string and append \n",
    "            # it to the string variable \"elevator_direction\".\n",
    "            elevator_direction += str(floor)\n",
    "\n",
    "            # If the entry floor number is still less than the exit \n",
    "            # floor number:\n",
    "            if floor < exit:\n",
    "\n",
    "                # The pipe | character is added between each  \n",
    "                # floor number in the string variable  \n",
    "                # \"elevator_direction\" to provide a visual  \n",
    "                # divider between numbers. The if-statement \n",
    "                # above (if floor < exit) prevents the pipe \n",
    "                # character from appearing after the \"floor\" \n",
    "                # number is no longer less than the \"exit\" \n",
    "                # variable. \n",
    "                elevator_direction += \" | \"\n",
    "\n",
    "            # Increments the \"floor\" number as the elevator goes up.\n",
    "            floor += 1\n",
    "\n",
    "    # Returns the string holding the elevator direction (Going down or \n",
    "    # Going up) along with the floor countdown or count up.\n",
    "    return elevator_direction\n",
    "\n",
    "\n",
    "# Call the function with 2 integer parameters. \n",
    "print(elevator_floor(1,4)) # Should print Going up: 1 | 2 | 3 | 4\n",
    "print(elevator_floor(6,2)) # Should print Going down: 6 | 5 | 4 | 3 | 2\n"
   ]
  },
  {
   "cell_type": "markdown",
   "id": "244c3f6d-07ee-4eb1-bbf3-58890ec349f8",
   "metadata": {},
   "source": [
    "1.\n",
    "Question 1\n",
    "\n",
    "Fill in the blanks to print the even numbers from 2 to 12."
   ]
  },
  {
   "cell_type": "code",
   "execution_count": null,
   "id": "78c2c3fb-f692-49d0-bf41-31cab08994a4",
   "metadata": {},
   "outputs": [],
   "source": [
    "number = 2 # Initialize the variable \n",
    "while number <= 12: # Complete the while loop condition\n",
    "    print(number, end=\" \")\n",
    "    number += 2# Increment the variable\n",
    "\n",
    "# Should print 2 4 6 8 10 12 "
   ]
  },
  {
   "cell_type": "markdown",
   "id": "d73f9e45-bf83-4de8-82ce-b301f7b731ba",
   "metadata": {},
   "source": [
    "2.\n",
    "Question 2\n",
    "\n",
    " Find and correct the error in the for loop below.  The loop should check each number from 1 to 5 and identify if the number is odd or even.  "
   ]
  },
  {
   "cell_type": "code",
   "execution_count": 39,
   "id": "4aeadde9-9f49-4666-9469-0a8cb81dd539",
   "metadata": {},
   "outputs": [
    {
     "name": "stdout",
     "output_type": "stream",
     "text": [
      "odd\n",
      "even\n",
      "odd\n",
      "even\n",
      "odd\n"
     ]
    }
   ],
   "source": [
    "for number in range(1, 5+1):\n",
    "    if number % 2 == 0:\n",
    "        print(\"even\")\n",
    "    else:\n",
    "        print(\"odd\")\n",
    "\n",
    "\n",
    "# Should print:\n",
    "# odd\n",
    "# even\n",
    "# odd\n",
    "# even\n",
    "# odd"
   ]
  },
  {
   "cell_type": "markdown",
   "id": "5077181e-075d-459f-9005-ff04effcc7d2",
   "metadata": {},
   "source": [
    "Question 3\n",
    "\n",
    "Fill in the blanks to complete the function “even_numbers(n)”. This function should count how many even numbers exist in a sequence from 0 to the given “n”number, where 0 counts as an even number.  For example, even_numbers(25) should return 13, and even_numbers(6) should return 4.\n",
    "Status: [object Object]\n",
    "1 point"
   ]
  },
  {
   "cell_type": "code",
   "execution_count": 7,
   "id": "6fe248eb-08b4-4dad-9eb9-6e7a93550462",
   "metadata": {},
   "outputs": [
    {
     "name": "stdout",
     "output_type": "stream",
     "text": [
      "13\n",
      "73\n",
      "501\n",
      "1\n"
     ]
    }
   ],
   "source": [
    "def even_numbers(n):\n",
    "    count = 0\n",
    "    current_number = 0\n",
    "    while current_number <= n: # Complete the while loop condition\n",
    "        if current_number % 2 == 0:\n",
    "            current_number += 2 # Increment the appropriate variable\n",
    "        count += 1 # Increment the appropriate variable\n",
    "    return count\n",
    "    \n",
    "print(even_numbers(25))   # Should print 13\n",
    "print(even_numbers(144))  # Should print 73\n",
    "print(even_numbers(1000)) # Should print 501\n",
    "print(even_numbers(0))    # Should print 1"
   ]
  },
  {
   "cell_type": "markdown",
   "id": "e90764ea-be3f-41ed-b468-c6f807fa862d",
   "metadata": {},
   "source": [
    "4.\n",
    "Question 4\n",
    "\n",
    "Fill in the blanks to complete the “multiplication_table” function. This function should print a multiplication table, where each number is the result of multiplying the first number of its row by the number at the top of its column. Complete the range sequences in the nested loops so that “multiplication_table(1, 3)” will print:\n",
    "\n",
    "1 2 3\n",
    "\n",
    "2 4 6\n",
    "\n",
    "3 6 9"
   ]
  },
  {
   "cell_type": "code",
   "execution_count": 42,
   "id": "ee7dff50-9f07-4169-99f3-4e135b7ae7d9",
   "metadata": {},
   "outputs": [
    {
     "name": "stdout",
     "output_type": "stream",
     "text": [
      "1 2 3 \n",
      "2 4 6 \n",
      "3 6 9 \n"
     ]
    }
   ],
   "source": [
    "def multiplication_table(start, stop):\n",
    "    # Complete the outer loop range\n",
    "    for x in range(start, stop+1): \n",
    "         # Complete the inner loop range\n",
    "        for y in range(start, stop+1):\n",
    "            # Prints the value of \"x\" multiplied by \"y\" \n",
    "            # and inserts a space after each value\n",
    "            print(str(x*y), end=\" \")\n",
    "        # An empty print() function inserts a line break at the \n",
    "        # end of the row \n",
    "        print()\n",
    "\n",
    "\n",
    "multiplication_table(1, 3)\n",
    "# Should print the multiplication table shown above"
   ]
  },
  {
   "cell_type": "markdown",
   "id": "e97c346a-528e-4d58-a2c6-52949ce1cc7a",
   "metadata": {},
   "source": [
    "5.\n",
    "Question 5\n",
    "\n",
    "Fill in the blanks to complete the “divisible” function.\n",
    "This function should count the number of values from 0 to the “max” parameter minus 1 that are evenly divisible by the “divisor” parameter. This means they do not have a remainder when divided by the divisor. Complete the code so that a function call like “divisible(100,10)” will return the number “10”."
   ]
  },
  {
   "cell_type": "code",
   "execution_count": null,
   "id": "fcff4dee-f335-449f-bb2d-4642d1c87f04",
   "metadata": {},
   "outputs": [],
   "source": [
    "def divisible(max, divisor):\n",
    "    ___ # Initialize an incremental variable\n",
    "    for ___ # Complete the for loop\n",
    "        if x % divisor == 0:\n",
    "            ___ # Increment the appropriate variable\n",
    "    return count\n",
    "\n",
    "print(divisible(100, 10)) # Should be 10\n",
    "print(divisible(10, 3)) # Should be 4\n",
    "print(divisible(144, 17)) # Should be 9"
   ]
  },
  {
   "cell_type": "code",
   "execution_count": 57,
   "id": "9f218c41-bef9-40af-a0ed-ad685014af00",
   "metadata": {},
   "outputs": [
    {
     "name": "stdout",
     "output_type": "stream",
     "text": [
      "10\n",
      "4\n",
      "9\n"
     ]
    }
   ],
   "source": [
    "def divisible(max, divisor):\n",
    "    count = 0 # Initialize an incremental variable\n",
    "    for x in range(0, max):  # Complete the for loop (x goes from 0 to max-1)\n",
    "        if x % divisor == 0:\n",
    "            count += 1  # Increment the appropriate variable\n",
    "    return count\n",
    "\n",
    "print(divisible(100, 10))  # Should be 10\n",
    "print(divisible(10, 3))    # Should be 4\n",
    "print(divisible(144, 17))  # Should be 9"
   ]
  },
  {
   "cell_type": "markdown",
   "id": "bcb3802d-bbf8-4124-9da9-94fa756af0ca",
   "metadata": {},
   "source": [
    "Question 6\n",
    "\n",
    "Fill in the blanks to complete the “odd_numbers” function. This function should return a space-separated string of all odd positive numbers, up to and including the “maximum” variable that's passed into the function. Complete the for loop so that a function call like “odd_numbers(6)” will return the numbers “1 3 5”."
   ]
  },
  {
   "cell_type": "code",
   "execution_count": 5,
   "id": "4b6b34f2-5f21-4021-bb42-9c170ae152dc",
   "metadata": {},
   "outputs": [
    {
     "ename": "SyntaxError",
     "evalue": "invalid syntax (1333800995.py, line 7)",
     "output_type": "error",
     "traceback": [
      "\u001b[1;36m  Cell \u001b[1;32mIn[5], line 7\u001b[1;36m\u001b[0m\n\u001b[1;33m    for ___:\u001b[0m\n\u001b[1;37m           ^\u001b[0m\n\u001b[1;31mSyntaxError\u001b[0m\u001b[1;31m:\u001b[0m invalid syntax\n"
     ]
    }
   ],
   "source": [
    "def odd_numbers(maximum):\n",
    "    \n",
    "    return_string = \"\" # Initializes variable as a string\n",
    "\n",
    "    # Complete the for loop with a range that includes all \n",
    "    # odd numbers up to and including the \"maximum\" value.\n",
    "    for ___: \n",
    "\n",
    "        # Complete the body of the loop by appending the odd number\n",
    "        # followed by a space to the \"return_string\" variable.\n",
    "        ___  \n",
    "\n",
    "    # This .strip command will remove the final \" \" space \n",
    "    # at the end of the \"return_string\".\n",
    "    return return_string.strip()\n",
    "\n",
    "\n",
    "print(odd_numbers(6))  # Should be 1 3 5\n",
    "print(odd_numbers(10)) # Should be 1 3 5 7 9\n",
    "print(odd_numbers(1))  # Should be 1\n",
    "print(odd_numbers(3))  # Should be 1 3\n",
    "print(odd_numbers(0))  # No numbers displayed"
   ]
  },
  {
   "cell_type": "code",
   "execution_count": 2,
   "id": "11a02f8e",
   "metadata": {},
   "outputs": [
    {
     "name": "stdout",
     "output_type": "stream",
     "text": [
      "Reed received 80% on the exam\n",
      "Paige received 92% on the exam\n",
      "Jesse received 85% on the exam\n"
     ]
    }
   ],
   "source": [
    "# def student_grade(name, grade):\n",
    "# \treturn \"\"\n",
    "\n",
    "# print(student_grade(\"Reed\", 80))\n",
    "# print(student_grade(\"Paige\", 92))\n",
    "# print(student_grade(\"Jesse\", 85))\n",
    "\n",
    "# Modify the student_grade function using the format method, so that it returns the phrase \"X received Y% on the exam\". For example, student_grade(\"Reed\", 80) should return \"Reed received 80% on the exam\".\n",
    "\n",
    "def student_grade(name, grade):\n",
    "\treturn f\"{name} received {grade}% on the exam\".format()\n",
    "\n",
    "print(student_grade(\"Reed\", 80))\n",
    "print(student_grade(\"Paige\", 92))\n",
    "print(student_grade(\"Jesse\", 85))"
   ]
  },
  {
   "cell_type": "code",
   "execution_count": 4,
   "id": "1ab588de",
   "metadata": {},
   "outputs": [
    {
     "name": "stdout",
     "output_type": "stream",
     "text": [
      "7.5 8.175\n",
      "Base price: $7.50. With Tax: $8.18\n"
     ]
    }
   ],
   "source": [
    "price = 7.5\n",
    "with_tax = price * 1.09\n",
    "print(price, with_tax)\n",
    "print(\"Base price: ${:.2f}. With Tax: ${:.2f}\".format(price, with_tax))"
   ]
  },
  {
   "cell_type": "code",
   "execution_count": 3,
   "id": "00c05406",
   "metadata": {},
   "outputs": [
    {
     "name": "stdout",
     "output_type": "stream",
     "text": [
      "7.5 8.175\n",
      "Base price: $7.50. With Tax: $8.18\n"
     ]
    }
   ],
   "source": [
    "price = 7.5\n",
    "with_tax = price * 1.09\n",
    "print(price, with_tax)\n",
    "print(\"Base price: ${:.2f}. With Tax: ${:.2f}\".format(price, with_tax))"
   ]
  },
  {
   "cell_type": "code",
   "execution_count": 5,
   "id": "e37f54cf",
   "metadata": {},
   "outputs": [
    {
     "name": "stdout",
     "output_type": "stream",
     "text": [
      "  0 F | -17.78 C\n",
      " 10 F | -12.22 C\n",
      " 20 F |  -6.67 C\n",
      " 30 F |  -1.11 C\n",
      " 40 F |   4.44 C\n",
      " 50 F |  10.00 C\n",
      " 60 F |  15.56 C\n",
      " 70 F |  21.11 C\n",
      " 80 F |  26.67 C\n",
      " 90 F |  32.22 C\n",
      "100 F |  37.78 C\n"
     ]
    }
   ],
   "source": [
    "def to_celsius(x):\n",
    "  return (x-32)*5/9\n",
    "\n",
    "\n",
    "for x in range(0,101,10):\n",
    "  print(\"{:>3} F | {:>6.2f} C\".format(x, to_celsius(x)))"
   ]
  },
  {
   "cell_type": "code",
   "execution_count": 1,
   "id": "63cf8e8c",
   "metadata": {},
   "outputs": [
    {
     "name": "stdout",
     "output_type": "stream",
     "text": [
      "True\n",
      "False\n",
      "True\n"
     ]
    }
   ],
   "source": [
    "Question 1\n",
    "\n",
    "Fill in the blanks to complete the is_palindrome function. This function checks if a given string is a palindrome. A palindrome is a string that contains the same letters in the same order, whether the word is read from left to right or right to left. Examples of palindromes are words like kayak and radar, and phrases like \"Never Odd or Even\". The function should ignore blank spaces and capitalization when checking if the given string is a palindrome. Complete this function to return True if the passed string is a palindrome, False if not.\n",
    "\n",
    "```Python\n",
    "def is_palindrome(input_string):\n",
    "    # Two variables are initialized as string date types using empty \n",
    "    # quotes: \"reverse_string\" to hold the \"input_string\" in reverse\n",
    "    # order and \"new_string\" to hold the \"input_string\" minus the \n",
    "    # spaces between words, if any are found.\n",
    "    new_string = \"\"\n",
    "    reverse_string = \"\"\n",
    "\n",
    "    # Complete the for loop to iterate through each letter of the\n",
    "    # \"input_string\"\n",
    "    for ___:\n",
    "\n",
    "        # The if-statement checks if the \"letter\" is not a space.\n",
    "        if letter != \" \":\n",
    "\n",
    "            # If True, add the \"letter\" to the end of \"new_string\" and\n",
    "            # to the front of \"reverse_string\". If False (if a space\n",
    "            # is detected), no action is needed. Exit the if-block.\n",
    "            new_string = ___\n",
    "            reverse_string = ___\n",
    "\n",
    "    # Complete the if-statement to compare the \"new_string\" to the\n",
    "    # \"reverse_string\". Remember that Python is case-sensitive when\n",
    "    # creating the string comparison code. \n",
    "    if ___:\n",
    "\n",
    "        # If True, the \"input_string\" contains a palindrome.\n",
    "        return True\n",
    "\t\t\n",
    "    # Otherwise, return False.\n",
    "    return False\n",
    "\n",
    "\n",
    "print(is_palindrome(\"Never Odd or Even\")) # Should be True\n",
    "print(is_palindrome(\"abc\")) # Should be False\n",
    "print(is_palindrome(\"kayak\")) # Should be True\n",
    "```\n",
    "Solution\n",
    "```python\n",
    "\n",
    "def is_palindrome(input_string):\n",
    "    # Two variables are initialized as string date types using empty \n",
    "    # quotes: \"reverse_string\" to hold the \"input_string\" in reverse\n",
    "    # order and \"new_string\" to hold the \"input_string\" minus the \n",
    "    # spaces between words, if any are found.\n",
    "    new_string = \"\"\n",
    "    reverse_string = \"\"\n",
    "\n",
    "    # Complete the for loop to iterate through each letter of the\n",
    "    # \"input_string\"\n",
    "    for letter in input_string:\n",
    "\n",
    "        # The if-statement checks if the \"letter\" is not a space.\n",
    "        if letter != \" \":\n",
    "\n",
    "            # If True, add the \"letter\" to the end of \"new_string\" and\n",
    "            # to the front of \"reverse_string\". If False (if a space\n",
    "            # is detected), no action is needed. Exit the if-block.\n",
    "            new_string += letter\n",
    "            reverse_string = letter + reverse_string\n",
    "\n",
    "    # Complete the if-statement to compare the \"new_string\" to the\n",
    "    # \"reverse_string\". Remember that Python is case-sensitive when\n",
    "    # creating the string comparison code. \n",
    "    if new_string.lower() == reverse_string.lower():\n",
    "\n",
    "        # If True, the \"input_string\" contains a palindrome.\n",
    "        return True\n",
    "        \n",
    "    # Otherwise, return False.\n",
    "    return False\n",
    "\n",
    "\n",
    "print(is_palindrome(\"Never Odd or Even\")) # Should be True\n",
    "print(is_palindrome(\"abc\")) # Should be False\n",
    "print(is_palindrome(\"kayak\")) # Should be True\n",
    "\n",
    "```"
   ]
  },
  {
   "cell_type": "code",
   "execution_count": null,
   "id": "1922c5ef",
   "metadata": {},
   "outputs": [],
   "source": []
  }
 ],
 "metadata": {
  "kernelspec": {
   "display_name": "Python 3",
   "language": "python",
   "name": "python3"
  },
  "language_info": {
   "codemirror_mode": {
    "name": "ipython",
    "version": 3
   },
   "file_extension": ".py",
   "mimetype": "text/x-python",
   "name": "python",
   "nbconvert_exporter": "python",
   "pygments_lexer": "ipython3",
   "version": "3.13.0"
  }
 },
 "nbformat": 4,
 "nbformat_minor": 5
}
