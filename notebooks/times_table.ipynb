{
 "cells": [
  {
   "cell_type": "markdown",
   "metadata": {},
   "source": [
    "My original attempt, it works fine logically now, but to avoid stack overflow because of potential recursion limits being reached, i will be using a while loop instead of recursion.\n",
    "The code will be listed below"
   ]
  },
  {
   "cell_type": "code",
   "execution_count": 2,
   "metadata": {},
   "outputs": [
    {
     "name": "stdout",
     "output_type": "stream",
     "text": [
      "The input is not an integer. Try again\n",
      "yay!, it's a valid request!, here is the valid number:  9\n"
     ]
    }
   ],
   "source": [
    "\n",
    "def check_input():\n",
    "    # Prompt the user to enter a number\n",
    "    user_input = input(\"Please enter a number: \")\n",
    "    \n",
    "    # Check if the input is composed only of digits (i.e., a valid integer string)\n",
    "    if user_input.isdigit():\n",
    "        # Convert the valid integer string to an actual integer\n",
    "        str_to_int = int(user_input)\n",
    "        \n",
    "        # Check if the integer is within the valid range (1 to 12, inclusive)\n",
    "        if str_to_int >= 1 and str_to_int <= 12:\n",
    "            # Inform the user that the input is valid and display the number\n",
    "            print(\"yay!, it's a valid request!, here is the valid number: \", str_to_int)\n",
    "            # Optionally, you could use 'return' here to exit the function\n",
    "            # return\n",
    "        else:\n",
    "            # Inform the user that the number is out of range and prompt again\n",
    "            print(\"Please enter a number between 1 and 12\")\n",
    "            check_input()  # Recursively call the function to ask for input again\n",
    "    else:\n",
    "        # Inform the user that the input is not a valid integer and prompt again\n",
    "        print(\"The input is not an integer. Try again\")\n",
    "        check_input()  # Recursively call the function to ask for input again\n",
    "\n",
    "# Call the function to start the input validation process\n",
    "check_input()"
   ]
  },
  {
   "cell_type": "markdown",
   "metadata": {},
   "source": [
    "Version 2 "
   ]
  },
  {
   "cell_type": "code",
   "execution_count": 56,
   "metadata": {},
   "outputs": [
    {
     "name": "stdout",
     "output_type": "stream",
     "text": [
      "Please enter a number between 1 and 12\n",
      "Please enter a number between 1 and 12\n",
      "Please enter a number between 1 and 12\n",
      "Please enter a number between 1 and 12\n",
      "Please enter a number between 1 and 12\n",
      "Please enter a number between 1 and 12\n",
      "Here is the multiplication table for the multiplier : 1\n",
      "1 x 1 = 1\n",
      "2 x 1 = 2\n",
      "3 x 1 = 3\n",
      "4 x 1 = 4\n",
      "5 x 1 = 5\n",
      "6 x 1 = 6\n",
      "7 x 1 = 7\n",
      "8 x 1 = 8\n",
      "9 x 1 = 9\n",
      "10 x 1 = 10\n",
      "11 x 1 = 11\n",
      "12 x 1 = 12\n"
     ]
    }
   ],
   "source": [
    "def check_input():\n",
    "    while True:\n",
    "        # Prompt the user to enter a number\n",
    "        user_input = input(\"Please enter a number: \")\n",
    "        if user_input.isdigit():\n",
    "            # Convert the valid integer string to an integer\n",
    "            str_to_int = int(user_input)\n",
    "        \n",
    "            # Check if the integer is within the valid range (1 to 12, inclusive)\n",
    "            if str_to_int >= 1 and str_to_int <= 12:\n",
    "                # Inform the user that the input is valid and display the number\n",
    "                # print(\"yay!, it's a valid request!, here is the valid number: \", str_to_int)\n",
    "                # Optionally, you could use 'return' here to exit the function\n",
    "                return str_to_int\n",
    "            else:\n",
    "                # Inform the user that the number is out of range and prompt again\n",
    "                print(\"Please enter a number between 1 and 12\")\n",
    "\n",
    "        else:\n",
    "            # Inform the user that the input is not a valid integer and prompt again\n",
    "            print(\"The input is not an integer. Try again\")\n",
    "\n",
    "\n",
    "# this is the return value from check_input() being assigned to an integer\n",
    "multiplier = check_input()\n",
    "\n",
    "def multiplication_function(multiplier):\n",
    "    # print(multiplier, \"is the return value from the check_input() function\")\n",
    "    # print(\"str_to_int type\", (type(multiplier)))\n",
    "    \n",
    "    for i in range(1): \n",
    "        # Print a message that includes the current loop number\n",
    "        # \"i\" represents the current number in the loop (1, 2, 3, ..., 10)\n",
    "        print(\"Here is the multiplication table for the multiplier :\", multiplier)\n",
    "        for j in range(1, 12+1):\n",
    "            # Print a message that includes the current loop number\n",
    "            # \"j\" represents the current number in the loop (1, 2, 3\n",
    "            # ..., 10)\n",
    "            print(f\"{j} x {multiplier} =\", j*multiplier)\n",
    "\n",
    "\n",
    "\n",
    "## Now need to work out how to loop through the numbers 1 to 12 and multiply each number by the user inputted number\n",
    "## and then print out the results in a table format.\n",
    "\n",
    "\n",
    "multiplication_function(multiplier)"
   ]
  }
 ],
 "metadata": {
  "kernelspec": {
   "display_name": "Python 3",
   "language": "python",
   "name": "python3"
  },
  "language_info": {
   "codemirror_mode": {
    "name": "ipython",
    "version": 3
   },
   "file_extension": ".py",
   "mimetype": "text/x-python",
   "name": "python",
   "nbconvert_exporter": "python",
   "pygments_lexer": "ipython3",
   "version": "3.13.0"
  }
 },
 "nbformat": 4,
 "nbformat_minor": 2
}
