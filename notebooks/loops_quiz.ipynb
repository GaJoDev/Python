{
 "cells": [
  {
   "cell_type": "markdown",
   "id": "244c3f6d-07ee-4eb1-bbf3-58890ec349f8",
   "metadata": {},
   "source": [
    "Question 1\n",
    "\n",
    "Fill in the blanks to print the even numbers from 2 to 12."
   ]
  },
  {
   "cell_type": "code",
   "execution_count": null,
   "id": "3d62e11a",
   "metadata": {},
   "outputs": [],
   "source": [
    "number = ___ # Initialize the variable \n",
    "while ___ # Complete the while loop condition\n",
    "    print(number, end=\" \")\n",
    "    number ___ # Increment the variable\n",
    "\n",
    "# Should print 2 4 6 8 10 12 "
   ]
  },
  {
   "cell_type": "markdown",
   "id": "e78fb1ce",
   "metadata": {},
   "source": [
    "Solution"
   ]
  },
  {
   "cell_type": "code",
   "execution_count": 1,
   "id": "78c2c3fb-f692-49d0-bf41-31cab08994a4",
   "metadata": {},
   "outputs": [
    {
     "name": "stdout",
     "output_type": "stream",
     "text": [
      "2 4 6 8 10 12 "
     ]
    }
   ],
   "source": [
    "number = 2 # Initialize the variable \n",
    "while number <= 12: # Complete the while loop condition\n",
    "    print(number, end=\" \")\n",
    "    number += 2# Increment the variable\n",
    "\n",
    "# Should print 2 4 6 8 10 12 "
   ]
  },
  {
   "cell_type": "markdown",
   "id": "d73f9e45-bf83-4de8-82ce-b301f7b731ba",
   "metadata": {},
   "source": [
    "Question 2\n",
    "\n",
    " Find and correct the error in the for loop below.  The loop should check each number from 1 to 5 and identify if the number is odd or even.  "
   ]
  },
  {
   "cell_type": "code",
   "execution_count": null,
   "id": "a98e0e5c",
   "metadata": {},
   "outputs": [],
   "source": [
    "for number in range(5,-1):\n",
    "    print(number)\n",
    "\n",
    "# Should print:\n",
    "# 5\n",
    "# 4\n",
    "# 3\n",
    "# 2\n",
    "# 1\n",
    "# 0"
   ]
  },
  {
   "cell_type": "markdown",
   "id": "e9978782",
   "metadata": {},
   "source": [
    "Solution - needed to include the step element and decrease its value - range(start, stop, step)"
   ]
  },
  {
   "cell_type": "code",
   "execution_count": 4,
   "id": "abfdeb01",
   "metadata": {},
   "outputs": [
    {
     "name": "stdout",
     "output_type": "stream",
     "text": [
      "5\n",
      "4\n",
      "3\n",
      "2\n",
      "1\n",
      "0\n"
     ]
    }
   ],
   "source": [
    "for number in range(5,-1, -1):\n",
    "    print(number)\n",
    "\n",
    "# Should print:\n",
    "# 5\n",
    "# 4\n",
    "# 3\n",
    "# 2\n",
    "# 1\n",
    "# 0"
   ]
  },
  {
   "cell_type": "markdown",
   "id": "cf97f182",
   "metadata": {},
   "source": [
    "Question 3\n",
    "\n",
    "Fill in the blanks to complete the “factorial” function. This function will accept an integer variable “n” through the function parameters and produce the factorials of this number (by multiplying this value by every number less than the original number [n*(n-1)], excluding 0).  To do this, the function should:\n",
    "\n",
    "    - accept an integer variable “n” through the function parameters;\n",
    "\n",
    "    - initialize a variable “result” to the value of the “n” variable;\n",
    "\n",
    "    - iterate over the values of “n” using a while loop until “n” is equal to 0;\n",
    "\n",
    "    - starting at n-1, multiply the result by the current “n” value;\n",
    "\n",
    "    - decrement “n” by -1.\n",
    "\n",
    " For example, factorial 3 would return the value of 3*2*1, which would be 6."
   ]
  },
  {
   "cell_type": "code",
   "execution_count": null,
   "id": "7def3b17",
   "metadata": {},
   "outputs": [],
   "source": [
    "def factorial(n):\n",
    "    result = n\n",
    "    start = n\n",
    "    n -= 1\n",
    "    while ___: # The while loop should execute as long as n is greater than 0\n",
    "        result *= n # Multiply the current result by the current value of n\n",
    "        ___ # Decrement the appropriate variable by -1\n",
    "    return result\n",
    "\n",
    "\n",
    "print(factorial(3)) # Should print 6\n",
    "print(factorial(9)) # Should print 362880\n",
    "print(factorial(1)) # Should print 1"
   ]
  },
  {
   "cell_type": "markdown",
   "id": "d8e7e59f",
   "metadata": {},
   "source": [
    "Solution"
   ]
  },
  {
   "cell_type": "code",
   "execution_count": 15,
   "id": "8c1faef9",
   "metadata": {},
   "outputs": [
    {
     "name": "stdout",
     "output_type": "stream",
     "text": [
      "6\n",
      "362880\n",
      "1\n"
     ]
    }
   ],
   "source": [
    "def factorial(n):\n",
    "    result = n\n",
    "    start = n\n",
    "    n -= 1\n",
    "    while n > 0: # The while loop should execute as long as n is greater than 0\n",
    "        result *= n # Multiply the current result by the current value of n\n",
    "        n -= 1 # Decrement the appropriate variable by -1\n",
    "    return result\n",
    "\n",
    "\n",
    "print(factorial(3)) # Should print 6\n",
    "print(factorial(9)) # Should print 362880\n",
    "print(factorial(1)) # Should print 1"
   ]
  },
  {
   "cell_type": "markdown",
   "id": "7adb09d7",
   "metadata": {},
   "source": [
    "Question 4\n",
    "\n",
    "Fill in the blanks to complete the “multiplication_table” function. This function should print a multiplication table, where each number is the result of multiplying the first number of its row by the number at the top of its column. Complete the range sequences in the nested loops so that “multiplication_table(1, 3)” will print:\n",
    "\n",
    "1 2 3\n",
    "\n",
    "2 4 6\n",
    "\n",
    "3 6 9"
   ]
  },
  {
   "cell_type": "code",
   "execution_count": null,
   "id": "cd56ab7d",
   "metadata": {},
   "outputs": [],
   "source": [
    "def multiplication_table(start, stop):\n",
    "    # Complete the outer loop range\n",
    "    for x in range(___): \n",
    "         # Complete the inner loop range\n",
    "        for y in range(___):\n",
    "            # Prints the value of \"x\" multiplied by \"y\" \n",
    "            # and inserts a space after each value\n",
    "            print(str(x*y), end=\" \")\n",
    "        # An empty print() function inserts a line break at the \n",
    "        # end of the row \n",
    "        print()\n",
    "\n",
    "\n",
    "multiplication_table(1, 3)\n",
    "# Should print the multiplication table shown above"
   ]
  },
  {
   "cell_type": "markdown",
   "id": "a72009a7",
   "metadata": {},
   "source": [
    "Solution"
   ]
  },
  {
   "cell_type": "code",
   "execution_count": 18,
   "id": "74c41765",
   "metadata": {},
   "outputs": [
    {
     "name": "stdout",
     "output_type": "stream",
     "text": [
      "1 2 3 \n",
      "2 4 6 \n",
      "3 6 9 \n"
     ]
    }
   ],
   "source": [
    "def multiplication_table(start, stop):\n",
    "    # Complete the outer loop range\n",
    "    for x in range(start, stop+1, 1):\n",
    "         # Complete the inner loop range\n",
    "        for y in range(start, stop+1, 1):\n",
    "            # Prints the value of \"x\" multiplied by \"y\" \n",
    "            # and inserts a space after each value\n",
    "            print(str(x*y), end=\" \")\n",
    "        # An empty print() function inserts a line break at the \n",
    "        # end of the row \n",
    "        print()\n",
    "\n",
    "multiplication_table(1, 3)"
   ]
  },
  {
   "cell_type": "markdown",
   "id": "d4002a8c",
   "metadata": {},
   "source": [
    "Question 5\n",
    "\n",
    "Fill in the blanks to complete the “counter” function.\n",
    "\n",
    "This function should count down from the “start” to “stop” variables when “start” is bigger than “stop”.\n",
    "\n",
    "Otherwise, it should count up from “start” to “stop”.\n",
    "\n",
    "Complete the code so that a function call like “counter(3, 1)” will return “Counting down: 3, 2, 1” and “counter(2, 5)” will return “Counting up: 2, 3, 4, 5”."
   ]
  },
  {
   "cell_type": "code",
   "execution_count": null,
   "id": "5284e37d",
   "metadata": {},
   "outputs": [],
   "source": [
    "def counter(start, stop):\n",
    "    if start > stop:\n",
    "        return_string = \"Counting down: \"\n",
    "        while ___ # Complete the while loop\n",
    "            ___ # Add the numbers to the \"return_string\"\n",
    "            if start > stop:\n",
    "                return_string += \",\"\n",
    "            ___ # Increment the appropriate variable\n",
    "    else:\n",
    "        return_string = \"Counting up: \"\n",
    "        while ___ # Complete the while loop\n",
    "            ___ # Add the numbers to the \"return_string\"\n",
    "            if start < stop:\n",
    "                return_string += \",\"\n",
    "            ___ # Increment the appropriate variable\n",
    "    return return_string\n",
    "\n",
    "\n",
    "print(counter(1, 10)) # Should be \"Counting up: 1,2,3,4,5,6,7,8,9,10\"\n",
    "print(counter(2, 1)) # Should be \"Counting down: 2,1\"\n",
    "print(counter(5, 5)) # Should be \"Counting up: 5\""
   ]
  },
  {
   "cell_type": "markdown",
   "id": "b9fbedeb",
   "metadata": {},
   "source": [
    "Solution"
   ]
  },
  {
   "cell_type": "code",
   "execution_count": 21,
   "id": "48401bfd",
   "metadata": {},
   "outputs": [
    {
     "ename": "SyntaxError",
     "evalue": "expected ':' (769959274.py, line 11)",
     "output_type": "error",
     "traceback": [
      "\u001b[1;36m  Cell \u001b[1;32mIn[21], line 11\u001b[1;36m\u001b[0m\n\u001b[1;33m    while ___ # Complete the while loop\u001b[0m\n\u001b[1;37m              ^\u001b[0m\n\u001b[1;31mSyntaxError\u001b[0m\u001b[1;31m:\u001b[0m expected ':'\n"
     ]
    }
   ],
   "source": [
    "def counter(start, stop):\n",
    "    if start > stop:\n",
    "        return_string = \"Counting down: \"\n",
    "        while start > stop: # Complete the while loop\n",
    "            start = return_string # Add the numbers to the \"return_string\"\n",
    "            if start > stop:\n",
    "                return_string += \",\"\n",
    "            ___ # Increment the appropriate variable\n",
    "    else:\n",
    "        return_string = \"Counting up: \"\n",
    "        while ___ # Complete the while loop\n",
    "            ___ # Add the numbers to the \"return_string\"\n",
    "            if start < stop:\n",
    "                return_string += \",\"\n",
    "            ___ # Increment the appropriate variable\n",
    "    return return_string\n",
    "\n",
    "\n",
    "print(counter(1, 10)) # Should be \"Counting up: 1,2,3,4,5,6,7,8,9,10\"\n",
    "print(counter(2, 1)) # Should be \"Counting down: 2,1\"\n",
    "print(counter(5, 5)) # Should be \"Counting up: 5\""
   ]
  },
  {
   "cell_type": "code",
   "execution_count": 6,
   "id": "4aeadde9-9f49-4666-9469-0a8cb81dd539",
   "metadata": {},
   "outputs": [
    {
     "name": "stdout",
     "output_type": "stream",
     "text": [
      "odd\n",
      "even\n",
      "odd\n",
      "even\n",
      "odd\n"
     ]
    }
   ],
   "source": [
    "for number in range(1, 5+1):\n",
    "    if number % 2 == 0:\n",
    "        print(\"even\")\n",
    "    else:\n",
    "        print(\"odd\")\n",
    "\n",
    "\n",
    "# Should print:\n",
    "# odd\n",
    "# even\n",
    "# odd\n",
    "# even\n",
    "# odd"
   ]
  },
  {
   "cell_type": "markdown",
   "id": "5077181e-075d-459f-9005-ff04effcc7d2",
   "metadata": {},
   "source": [
    "Question 3\n",
    "\n",
    "Fill in the blanks to complete the function “even_numbers(n)”. This function should count how many even numbers exist in a sequence from 0 to the given “n”number, where 0 counts as an even number.  For example, even_numbers(25) should return 13, and even_numbers(6) should return 4.\n",
    "Status: [object Object]\n",
    "1 point"
   ]
  },
  {
   "cell_type": "code",
   "execution_count": null,
   "id": "2a3d5a37",
   "metadata": {},
   "outputs": [],
   "source": [
    "def factorial(n):\n",
    "    result = n\n",
    "    start = n\n",
    "    n -= 1\n",
    "    while ___: # The while loop should execute as long as n is greater than 0\n",
    "        result *= n # Multiply the current result by the current value of n\n",
    "        ___ # Decrement the appropriate variable by -1\n",
    "    return result\n",
    "\n",
    "\n",
    "print(factorial(3)) # Should print 6\n",
    "print(factorial(9)) # Should print 362880\n",
    "print(factorial(1)) # Should print 1"
   ]
  },
  {
   "cell_type": "markdown",
   "id": "1b9dd96e",
   "metadata": {},
   "source": [
    "Solution"
   ]
  },
  {
   "cell_type": "code",
   "execution_count": 7,
   "id": "6fe248eb-08b4-4dad-9eb9-6e7a93550462",
   "metadata": {},
   "outputs": [
    {
     "name": "stdout",
     "output_type": "stream",
     "text": [
      "13\n",
      "73\n",
      "501\n",
      "1\n"
     ]
    }
   ],
   "source": [
    "def even_numbers(n):\n",
    "    count = 0\n",
    "    current_number = 0\n",
    "    while current_number <= n: # Complete the while loop condition\n",
    "        if current_number % 2 == 0:\n",
    "            current_number += 2 # Increment the appropriate variable\n",
    "        count += 1 # Increment the appropriate variable\n",
    "    return count\n",
    "    \n",
    "print(even_numbers(25))   # Should print 13\n",
    "print(even_numbers(144))  # Should print 73\n",
    "print(even_numbers(1000)) # Should print 501\n",
    "print(even_numbers(0))    # Should print 1"
   ]
  },
  {
   "cell_type": "code",
   "execution_count": null,
   "id": "f6dc6fa9",
   "metadata": {},
   "outputs": [],
   "source": []
  },
  {
   "cell_type": "markdown",
   "id": "e90764ea-be3f-41ed-b468-c6f807fa862d",
   "metadata": {},
   "source": [
    "Question 4\n",
    "\n",
    "Fill in the blanks to complete the “multiplication_table” function. This function should print a multiplication table, where each number is the result of multiplying the first number of its row by the number at the top of its column. Complete the range sequences in the nested loops so that “multiplication_table(1, 3)” will print:\n",
    "\n",
    "1 2 3\n",
    "\n",
    "2 4 6\n",
    "\n",
    "3 6 9"
   ]
  },
  {
   "cell_type": "code",
   "execution_count": 42,
   "id": "ee7dff50-9f07-4169-99f3-4e135b7ae7d9",
   "metadata": {},
   "outputs": [
    {
     "name": "stdout",
     "output_type": "stream",
     "text": [
      "1 2 3 \n",
      "2 4 6 \n",
      "3 6 9 \n"
     ]
    }
   ],
   "source": [
    "def multiplication_table(start, stop):\n",
    "    # Complete the outer loop range\n",
    "    for x in range(start, stop+1): \n",
    "         # Complete the inner loop range\n",
    "        for y in range(start, stop+1):\n",
    "            # Prints the value of \"x\" multiplied by \"y\" \n",
    "            # and inserts a space after each value\n",
    "            print(str(x*y), end=\" \")\n",
    "        # An empty print() function inserts a line break at the \n",
    "        # end of the row \n",
    "        print()\n",
    "\n",
    "\n",
    "multiplication_table(1, 3)\n",
    "# Should print the multiplication table shown above"
   ]
  },
  {
   "cell_type": "markdown",
   "id": "e97c346a-528e-4d58-a2c6-52949ce1cc7a",
   "metadata": {},
   "source": [
    "Question 5\n",
    "\n",
    "Fill in the blanks to complete the “counter” function. This function should count down from the “start” to “stop” variables when “start” is bigger than “stop”. Otherwise, it should count up from “start” to “stop”. Complete the code so that a function call like “counter(3, 1)” will return “Counting down: 3, 2, 1” and “counter(2, 5)” will return “Counting up: 2, 3, 4, 5”."
   ]
  },
  {
   "cell_type": "code",
   "execution_count": null,
   "id": "daba6523",
   "metadata": {},
   "outputs": [],
   "source": [
    "def counter(start, stop):\n",
    "    if start > stop:\n",
    "        return_string = \"Counting down: \"\n",
    "        while ___ # Complete the while loop\n",
    "            ___ # Add the numbers to the \"return_string\"\n",
    "            if start > stop:\n",
    "                return_string += \",\"\n",
    "            ___ # Increment the appropriate variable\n",
    "    else:\n",
    "        return_string = \"Counting up: \"\n",
    "        while ___ # Complete the while loop\n",
    "            ___ # Add the numbers to the \"return_string\"\n",
    "            if start < stop:\n",
    "                return_string += \",\"\n",
    "            ___ # Increment the appropriate variable\n",
    "    return return_string\n",
    "\n",
    "\n",
    "print(counter(1, 10)) # Should be \"Counting up: 1,2,3,4,5,6,7,8,9,10\"\n",
    "print(counter(2, 1)) # Should be \"Counting down: 2,1\"\n",
    "print(counter(5, 5)) # Should be \"Counting up: 5\""
   ]
  },
  {
   "cell_type": "markdown",
   "id": "8f79c069",
   "metadata": {},
   "source": [
    "Solution"
   ]
  },
  {
   "cell_type": "code",
   "execution_count": 1,
   "id": "fcff4dee-f335-449f-bb2d-4642d1c87f04",
   "metadata": {},
   "outputs": [
    {
     "name": "stdout",
     "output_type": "stream",
     "text": [
      "Counting up: 1,2,3,4,5,6,7,8,9,10\n",
      "Counting down: 2,1\n",
      "Counting up: 5\n"
     ]
    }
   ],
   "source": [
    "def counter(start, stop):\n",
    "    if start > stop:\n",
    "        return_string = \"Counting down: \"\n",
    "        while start >= stop:   # Complete the while loop\n",
    "            return_string += str(start) # Add the numbers to the \"return_string\"\n",
    "            if start > stop:  # Add a comma only if there are more numbers to add\n",
    "                return_string += \",\"\n",
    "            start -= 1  # Increment the appropriate variable\n",
    "    else:\n",
    "        return_string = \"Counting up: \"\n",
    "        while start <= stop:  # Complete the while loop\n",
    "            return_string += str(start) # Add the numbers to the \"return_string\"\n",
    "            if start < stop:  # Add a comma only if there are more numbers to add\n",
    "                return_string += \",\"\n",
    "            start += 1 # Increment the appropriate variable\n",
    "    return return_string\n",
    "\n",
    "\n",
    "# Test cases\n",
    "print(counter(1, 10))  # Should print: \"Counting up: 1,2,3,4,5,6,7,8,9,10\"\n",
    "print(counter(2, 1))   # Should print: \"Counting down: 2,1\"\n",
    "print(counter(5, 5))   # Should print: \"Counting up: 5\""
   ]
  },
  {
   "cell_type": "markdown",
   "id": "bcb3802d-bbf8-4124-9da9-94fa756af0ca",
   "metadata": {},
   "source": [
    "Question 6\n",
    "\n",
    "Fill in the blanks to complete the “odd_numbers” function. This function should return a space-separated string of all odd positive numbers, up to and including the “maximum” variable that's passed into the function. Complete the for loop so that a function call like “odd_numbers(6)” will return the numbers “1 3 5”."
   ]
  },
  {
   "cell_type": "code",
   "execution_count": 2,
   "id": "4b6b34f2-5f21-4021-bb42-9c170ae152dc",
   "metadata": {},
   "outputs": [
    {
     "ename": "SyntaxError",
     "evalue": "invalid syntax (1333800995.py, line 7)",
     "output_type": "error",
     "traceback": [
      "\u001b[1;36m  Cell \u001b[1;32mIn[2], line 7\u001b[1;36m\u001b[0m\n\u001b[1;33m    for ___:\u001b[0m\n\u001b[1;37m           ^\u001b[0m\n\u001b[1;31mSyntaxError\u001b[0m\u001b[1;31m:\u001b[0m invalid syntax\n"
     ]
    }
   ],
   "source": [
    "def odd_numbers(maximum):\n",
    "    \n",
    "    return_string = \"\" # Initializes variable as a string\n",
    "\n",
    "    # Complete the for loop with a range that includes all \n",
    "    # odd numbers up to and including the \"maximum\" value.\n",
    "    for ___: \n",
    "\n",
    "        # Complete the body of the loop by appending the odd number\n",
    "        # followed by a space to the \"return_string\" variable.\n",
    "        ___  \n",
    "\n",
    "    # This .strip command will remove the final \" \" space \n",
    "    # at the end of the \"return_string\".\n",
    "    return return_string.strip()\n",
    "\n",
    "\n",
    "print(odd_numbers(6))  # Should be 1 3 5\n",
    "print(odd_numbers(10)) # Should be 1 3 5 7 9\n",
    "print(odd_numbers(1))  # Should be 1\n",
    "print(odd_numbers(3))  # Should be 1 3\n",
    "print(odd_numbers(0))  # No numbers displayed"
   ]
  },
  {
   "cell_type": "code",
   "execution_count": 3,
   "id": "5acb042c",
   "metadata": {},
   "outputs": [
    {
     "name": "stdout",
     "output_type": "stream",
     "text": [
      "1 3 5 \n",
      "1 3 5 7 9 \n",
      "1 \n",
      "1 3 \n",
      "\n"
     ]
    }
   ],
   "source": [
    "def odd_numbers(maximum):\n",
    "    \n",
    "    return_string = \"\" # Initializes variable as a string\n",
    "\n",
    "    # Complete the for loop with a range that includes all \n",
    "    # odd numbers up to and including the \"maximum\" value.\n",
    "    for i in range (1, maximum+1, 2): \n",
    "        print(i, end=\" \")\n",
    "        # Complete the body of the loop by appending the odd number\n",
    "        # followed by a space to the \"return_string\" variable.\n",
    "\n",
    "          \n",
    "\n",
    "    # This .strip command will remove the final \" \" space \n",
    "    # at the end of the \"return_string\".\n",
    "    return return_string.strip()\n",
    "\n",
    "\n",
    "print(odd_numbers(6))  # Should be 1 3 5\n",
    "print(odd_numbers(10)) # Should be 1 3 5 7 9\n",
    "print(odd_numbers(1))  # Should be 1\n",
    "print(odd_numbers(3))  # Should be 1 3\n",
    "print(odd_numbers(0))  # No numbers displayed"
   ]
  }
 ],
 "metadata": {
  "kernelspec": {
   "display_name": "Python 3",
   "language": "python",
   "name": "python3"
  },
  "language_info": {
   "codemirror_mode": {
    "name": "ipython",
    "version": 3
   },
   "file_extension": ".py",
   "mimetype": "text/x-python",
   "name": "python",
   "nbconvert_exporter": "python",
   "pygments_lexer": "ipython3",
   "version": "3.13.0"
  }
 },
 "nbformat": 4,
 "nbformat_minor": 5
}
