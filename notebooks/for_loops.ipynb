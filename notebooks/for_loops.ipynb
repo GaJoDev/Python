{
 "cells": [
  {
   "cell_type": "markdown",
   "id": "c53e24c7-b4dd-431f-a494-0b6a9dff3fea",
   "metadata": {},
   "source": [
    "Print Numbers 1 to 10\n",
    "\n",
    "Write a program that prints the numbers from 1 to 10, one per line."
   ]
  },
  {
   "cell_type": "code",
   "execution_count": 33,
   "id": "20fc44ea-b138-4835-962d-5f32eb2ea056",
   "metadata": {},
   "outputs": [
    {
     "name": "stdout",
     "output_type": "stream",
     "text": [
      "current value of i:  1\n",
      "current value of i:  2\n",
      "current value of i:  3\n",
      "current value of i:  4\n",
      "current value of i:  5\n",
      "current value of i:  6\n",
      "current value of i:  7\n",
      "current value of i:  8\n",
      "current value of i:  9\n",
      "current value of i:  10\n"
     ]
    }
   ],
   "source": [
    "# Start a loop that will iterate over a range of numbers\n",
    "# range(1, 11) generates numbers from 1 to 10 (11 is not included)\n",
    "for i in range(1, 10+1):  \n",
    "    # Print a message that includes the current loop number\n",
    "    # \"i\" represents the current number in the loop (1, 2, 3, ..., 10)\n",
    "    print(\"current value of i: \", i)\n"
   ]
  },
  {
   "cell_type": "markdown",
   "id": "0bedc1e7",
   "metadata": {},
   "source": [
    "Explanation of the Comments:\n",
    "\n",
    "    Loop Through Numbers: The range(1, 11) function generates a sequence of numbers from 1 to 10. This is used to control how many times the loop will run. The first argument (1) is the starting value, and the second argument (11) is the endpoint, but it's exclusive, so the loop stops at 10.\n",
    "\n",
    "    Iteration Output: Inside the loop, the print(\"Iteration: \", i) statement will display the current iteration number. The variable i holds the value of the current number from the range, starting at 1 and ending at 10. Each time the loop runs, it prints the message \"Iteration: \" followed by the current value of i.\n",
    "\n",
    "This structure allows you to track how many times the loop has executed and which value it is processing at each iteration."
   ]
  },
  {
   "cell_type": "markdown",
   "id": "d3c92d51-8bcf-42f1-82ac-a00bd58cdb36",
   "metadata": {},
   "source": [
    "Write a program that calculates the sum of all numbers from 1 to n (inclusive). For example, if n = 5, the sum should be 1 + 2 + 3 + 4 + 5 = 15."
   ]
  },
  {
   "cell_type": "code",
   "execution_count": 24,
   "id": "da3c6df6-c880-4e28-8b00-48fd3d9b4f2c",
   "metadata": {},
   "outputs": [
    {
     "name": "stdout",
     "output_type": "stream",
     "text": [
      "1 + 2 + 3 + 4 + 5 = 15\n"
     ]
    }
   ],
   "source": [
    "# Define the value of n, which is the upper limit of the range\n",
    "n = 5\n",
    "\n",
    "# Initialize the sum variable to 0\n",
    "sum = 0\n",
    "\n",
    "# Iterate over the range of numbers from 1 to n (inclusive)\n",
    "for i in range(1, n + 1):\n",
    "    # Add the current value of i to the sum\n",
    "    sum += i\n",
    "    \n",
    "    # Check if the current number is not the last number (n)\n",
    "    if i != n:\n",
    "        # If it's not the last number, print the number followed by a \"+\", staying on the same line\n",
    "        print(i, \"+ \", end=\"\")\n",
    "    else:\n",
    "        # If it's the last number, print the number without the \"+\", followed by a newline\n",
    "        print(i, end=\" \")\n",
    "        \n",
    "# After the loop, print the sum of all numbers from 1 to n\n",
    "print(\"=\", sum)"
   ]
  },
  {
   "cell_type": "markdown",
   "id": "b571fb02-47c6-428a-b04b-eba4d8636813",
   "metadata": {},
   "source": [
    "Count Even Numbers\n",
    "\n",
    "Write a program that counts how many even numbers there are between 1 and n. For example, for n = 10, the even numbers are 2, 4, 6, 8, and 10, so the count should be 5."
   ]
  },
  {
   "cell_type": "code",
   "execution_count": 2,
   "id": "729191e9-4bd4-467a-9e96-7bda3ff9f453",
   "metadata": {},
   "outputs": [
    {
     "name": "stdout",
     "output_type": "stream",
     "text": [
      "Even numbers count: 5\n"
     ]
    }
   ],
   "source": [
    "n = 10\n",
    "even_count = 0\n",
    "for i in range(1, n + 1):\n",
    "    if i % 2 == 0:\n",
    "        even_count += 1\n",
    "print(\"Even numbers count:\", even_count)"
   ]
  },
  {
   "cell_type": "markdown",
   "id": "4c59397d-29eb-4f5b-8ddd-8f9d2deb93d3",
   "metadata": {},
   "source": [
    "Find Divisible Numbers\n",
    "\n",
    "Write a program that finds all numbers between 0 and n that are divisible by a given number divisor. For example, if n = 20 and divisor = 3, it should print numbers like 0, 3, 6, 9, 12, 15, 18."
   ]
  },
  {
   "cell_type": "code",
   "execution_count": 3,
   "id": "ed82637c-d7b1-4c64-aeae-1d8d4e9b796a",
   "metadata": {},
   "outputs": [
    {
     "name": "stdout",
     "output_type": "stream",
     "text": [
      "0\n",
      "3\n",
      "6\n",
      "9\n",
      "12\n",
      "15\n",
      "18\n"
     ]
    }
   ],
   "source": [
    "n = 20\n",
    "divisor = 3\n",
    "for i in range(0, n + 1):\n",
    "    if i % divisor == 0:\n",
    "        print(i)"
   ]
  },
  {
   "cell_type": "markdown",
   "id": "6372c784-6bf3-419b-82b8-ac907c348ea6",
   "metadata": {},
   "source": [
    "Count Even Numbers\n",
    "\n",
    "Write a program that counts how many even numbers there are between 1 and n. For example, for n = 10, the even numbers are 2, 4, 6, 8, and 10, so the count should be 5."
   ]
  },
  {
   "cell_type": "code",
   "execution_count": 4,
   "id": "33a0e3f4-2dff-498f-be31-7739e99d7b6f",
   "metadata": {},
   "outputs": [
    {
     "name": "stdout",
     "output_type": "stream",
     "text": [
      "Even numbers count: 5\n"
     ]
    }
   ],
   "source": [
    "n = 10\n",
    "even_count = 0\n",
    "for i in range(1, n + 1):\n",
    "    if i % 2 == 0:\n",
    "        even_count += 1\n",
    "print(\"Even numbers count:\", even_count)"
   ]
  },
  {
   "cell_type": "markdown",
   "id": "8d331384-67b7-4b35-b023-ff9ff1211c8c",
   "metadata": {},
   "source": [
    "Multiplication Table\n",
    "\n",
    "Write a program that prints the multiplication table for a given number. For example, for the number 5, it should print:\n",
    "\n",
    "5 x 1 = 5\n",
    "5 x 2 = 10\n",
    "5 x 3 = 15\n",
    "...\n",
    "5 x 10 = 50"
   ]
  },
  {
   "cell_type": "code",
   "execution_count": 27,
   "id": "7ea6aa60-1b7b-4635-b059-e865f350e961",
   "metadata": {},
   "outputs": [
    {
     "name": "stdout",
     "output_type": "stream",
     "text": [
      "5 x 1 = 5\n",
      "5 x 2 = 10\n",
      "5 x 3 = 15\n",
      "5 x 4 = 20\n",
      "5 x 5 = 25\n",
      "5 x 6 = 30\n",
      "5 x 7 = 35\n",
      "5 x 8 = 40\n",
      "5 x 9 = 45\n",
      "5 x 10 = 50\n"
     ]
    }
   ],
   "source": [
    "num = 5\n",
    "for i in range(1, 11):\n",
    "    print(f\"{num} x {i} = {num * i}\")"
   ]
  },
  {
   "cell_type": "markdown",
   "id": "9a31e785-fdb9-4940-97a3-15ef7eef7857",
   "metadata": {},
   "source": [
    "Print Squares of Numbers\n",
    "\n",
    "Write a program that prints the squares of numbers from 1 to n. For example, for n = 5, it should print:\n",
    "\n",
    "1\n",
    "4\n",
    "9\n",
    "16\n",
    "25"
   ]
  },
  {
   "cell_type": "code",
   "execution_count": 7,
   "id": "a4f919b8-e53d-400c-9fca-939fb021ab8b",
   "metadata": {},
   "outputs": [
    {
     "name": "stdout",
     "output_type": "stream",
     "text": [
      "1\n",
      "4\n",
      "9\n",
      "16\n",
      "25\n"
     ]
    }
   ],
   "source": [
    "n = 5\n",
    "for i in range(1, n + 1):\n",
    "    print(i ** 2)"
   ]
  },
  {
   "cell_type": "markdown",
   "id": "a3252962-c33a-49a2-9423-4a839ed2422d",
   "metadata": {},
   "source": [
    "Countdown from n\n",
    "\n",
    "Write a program that counts down from a number n to 1, printing each number on a new line."
   ]
  },
  {
   "cell_type": "markdown",
   "id": "e3490308-a946-4224-90c5-fbc57a61bd61",
   "metadata": {},
   "source": [
    "Print Odd Numbers\n",
    "\n",
    "Write a program that prints all odd numbers between 1 and n. For example, for n = 10, it should print: 1, 3, 5, 7, 9.n = 10\n",
    "for i in range(1, n + 1, 2):  # Increment by 2 to get odd numbers\n",
    "    print(i)"
   ]
  },
  {
   "cell_type": "code",
   "execution_count": null,
   "id": "df28543c-60cd-49ab-b0ea-a06eb9fe0512",
   "metadata": {},
   "outputs": [],
   "source": [
    "n = 10\n",
    "for i in range(1, n + 1, 2):  # Increment by 2 to get odd numbers\n",
    "    print(i)"
   ]
  },
  {
   "cell_type": "markdown",
   "id": "394f4a50-451a-4060-919b-5f3b79c771fa",
   "metadata": {},
   "source": [
    "Factorial of a Number\n",
    "\n",
    "Write a program that calculates the factorial of a number n. The factorial of a number is the product of all positive integers less than or equal to n. For example, 5! = 5 * 4 * 3 * 2 * 1 = 120."
   ]
  },
  {
   "cell_type": "code",
   "execution_count": null,
   "id": "211f5949-efb9-441b-b9b8-a4efba435670",
   "metadata": {},
   "outputs": [],
   "source": [
    "n = 5\n",
    "factorial = 1\n",
    "for i in range(1, n + 1):\n",
    "    factorial *= i\n",
    "print(\"Factorial:\", factorial)"
   ]
  },
  {
   "cell_type": "markdown",
   "id": "a9e287f9-e6ee-4979-97d6-d44cb1afc543",
   "metadata": {},
   "source": [
    "Print Numbers Divisible by 3 or 5\n",
    "\n",
    "Write a program that prints all numbers between 1 and n that are divisible by either 3 or 5. For example, for n = 15, the numbers should be: 3, 5, 6, 9, 10, 12."
   ]
  },
  {
   "cell_type": "code",
   "execution_count": 8,
   "id": "35ea50a5-553f-4077-a396-1fcbb3f2c687",
   "metadata": {},
   "outputs": [
    {
     "name": "stdout",
     "output_type": "stream",
     "text": [
      "3\n",
      "5\n",
      "6\n",
      "9\n",
      "10\n",
      "12\n",
      "15\n"
     ]
    }
   ],
   "source": [
    "n = 15\n",
    "for i in range(1, n + 1):\n",
    "    if i % 3 == 0 or i % 5 == 0:\n",
    "        print(i)"
   ]
  },
  {
   "cell_type": "code",
   "execution_count": null,
   "id": "f85db689-68b6-4d77-a796-763c41fe4aab",
   "metadata": {},
   "outputs": [],
   "source": []
  }
 ],
 "metadata": {
  "kernelspec": {
   "display_name": "Python 3",
   "language": "python",
   "name": "python3"
  },
  "language_info": {
   "codemirror_mode": {
    "name": "ipython",
    "version": 3
   },
   "file_extension": ".py",
   "mimetype": "text/x-python",
   "name": "python",
   "nbconvert_exporter": "python",
   "pygments_lexer": "ipython3",
   "version": "3.13.0"
  }
 },
 "nbformat": 4,
 "nbformat_minor": 5
}
