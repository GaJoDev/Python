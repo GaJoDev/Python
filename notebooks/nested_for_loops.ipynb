{
 "cells": [
  {
   "cell_type": "markdown",
   "metadata": {},
   "source": [
    "Simple Nested Loop Explanation with a Visual Example\n",
    "\n",
    "Nested loops mean having one loop inside another. The inner loop runs completely every time the outer loop runs once.\n",
    "Example: Creating a Grid"
   ]
  },
  {
   "cell_type": "code",
   "execution_count": 3,
   "metadata": {},
   "outputs": [
    {
     "name": "stdout",
     "output_type": "stream",
     "text": [
      "(r 1, c 1) (r 1, c 2) (r 1, c 3) (r 1, c 4) \n",
      "(r 2, c 1) (r 2, c 2) (r 2, c 3) (r 2, c 4) \n",
      "(r 3, c 1) (r 3, c 2) (r 3, c 3) (r 3, c 4) \n"
     ]
    }
   ],
   "source": [
    "# Define the number of rows and columns for the grid\n",
    "rows = 3  # Total rows in the grid\n",
    "cols = 4  # Total columns in the grid\n",
    "\n",
    "# Outer loop: This loop controls the rows of the grid\n",
    "for row in range(1, rows + 1):  \n",
    "    # The outer loop runs once for each row (1, 2, 3 in this case)\n",
    "    \n",
    "    # Inner loop: This loop controls the columns within the current row\n",
    "    for col in range(1, cols + 1):  \n",
    "        # The inner loop iterates through all columns (1 to 4) for the current row\n",
    "        \n",
    "        # Print the current cell coordinates with 'r' for row and 'c' for column in the output\n",
    "        # Example: (r 1, c 1), (r 1, c 2), etc.\n",
    "        print(f\"(r {row}, c {col})\", end=\" \")  \n",
    "    \n",
    "    # After completing all columns for the current row, print a new line\n",
    "    # This moves the output to the next row visually\n",
    "    print()\n"
   ]
  },
  {
   "cell_type": "code",
   "execution_count": 4,
   "metadata": {},
   "outputs": [
    {
     "name": "stdout",
     "output_type": "stream",
     "text": [
      "1\n",
      "2\n",
      "3\n",
      "4\n",
      "5\n",
      "6\n",
      "7\n",
      "8\n",
      "9\n"
     ]
    }
   ],
   "source": [
    "matrix = [\n",
    "    [1, 2, 3],\n",
    "    [4, 5, 6],\n",
    "    [7, 8, 9]\n",
    "]\n",
    "for row in matrix:\n",
    "    for element in row:\n",
    "        print(element)"
   ]
  }
 ],
 "metadata": {
  "kernelspec": {
   "display_name": "Python 3",
   "language": "python",
   "name": "python3"
  },
  "language_info": {
   "codemirror_mode": {
    "name": "ipython",
    "version": 3
   },
   "file_extension": ".py",
   "mimetype": "text/x-python",
   "name": "python",
   "nbconvert_exporter": "python",
   "pygments_lexer": "ipython3",
   "version": "3.13.0"
  }
 },
 "nbformat": 4,
 "nbformat_minor": 2
}
