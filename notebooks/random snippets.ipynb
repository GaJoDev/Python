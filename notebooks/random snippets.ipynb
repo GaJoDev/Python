{
 "cells": [
  {
   "cell_type": "code",
   "execution_count": 2,
   "metadata": {},
   "outputs": [
    {
     "name": "stdout",
     "output_type": "stream",
     "text": [
      "That is not a valid integer. Please try again.\n"
     ]
    }
   ],
   "source": [
    "# Prompt the user for input and convert it to an integer\n",
    "try:\n",
    "    user_input = int(input(\"Please enter an integer: \"))\n",
    "    print(f\"You entered the integer: {user_input}\")\n",
    "except ValueError:\n",
    "    print(\"That is not a valid integer. Please try again.\")"
   ]
  },
  {
   "cell_type": "code",
   "execution_count": null,
   "metadata": {},
   "outputs": [
    {
     "name": "stdout",
     "output_type": "stream",
     "text": [
      "<class 'str'>\n",
      "<class 'int'>\n"
     ]
    }
   ],
   "source": [
    "user_input = input(\"Enter something: \")\n",
    "type (user_input)\n",
    "print(type (user_input))\n",
    "\n",
    "number_int = int(user_input)\n",
    "print(type (number_int))\n",
    "    "
   ]
  }
 ],
 "metadata": {
  "kernelspec": {
   "display_name": "Python 3",
   "language": "python",
   "name": "python3"
  },
  "language_info": {
   "codemirror_mode": {
    "name": "ipython",
    "version": 3
   },
   "file_extension": ".py",
   "mimetype": "text/x-python",
   "name": "python",
   "nbconvert_exporter": "python",
   "pygments_lexer": "ipython3",
   "version": "3.13.0"
  }
 },
 "nbformat": 4,
 "nbformat_minor": 2
}
